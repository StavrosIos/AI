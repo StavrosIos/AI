{
 "cells": [
  {
   "cell_type": "markdown",
   "metadata": {},
   "source": [
    "    Pipeline Used:\n",
    "       Stopwords-number removal \n",
    "       Lemmatizing \n",
    "       TF/IDF\n",
    "       Feature selection Kbest\n",
    "       Many algorithms.\n",
    "    "
   ]
  },
  {
   "cell_type": "code",
   "execution_count": 1,
   "metadata": {},
   "outputs": [],
   "source": [
    "import pandas as pd\n",
    "import numpy as np\n",
    "import re\n",
    "import sklearn\n",
    "import os\n",
    "import json\n",
    "from sklearn.feature_extraction.text import TfidfVectorizer\n",
    "import string\n",
    "from nltk.corpus import stopwords\n",
    "from sklearn.model_selection import train_test_split\n",
    "from sklearn import metrics\n",
    "from sklearn.svm import SVC \n",
    "import os\n",
    "import pickle"
   ]
  },
  {
   "cell_type": "code",
   "execution_count": 2,
   "metadata": {},
   "outputs": [],
   "source": [
    "from yellowbrick.classifier import ClassificationReport\n",
    "from yellowbrick.classifier import ConfusionMatrix \n",
    "from sklearn.linear_model import LogisticRegression\n",
    "from sklearn.naive_bayes import MultinomialNB\n",
    "from sklearn.svm import SVC #support vector classifier\n",
    "from sklearn.linear_model import SGDClassifier\n",
    "import numpy as np\n",
    "import spacy\n",
    "nlp = spacy.load('en_core_web_sm')\n",
    "import os"
   ]
  },
  {
   "cell_type": "markdown",
   "metadata": {},
   "source": [
    "# Import data"
   ]
  },
  {
   "cell_type": "code",
   "execution_count": 6,
   "metadata": {},
   "outputs": [],
   "source": [
    "path=os.getcwd()\n",
    "new_path=path.replace(\"2nd Pipeline notebooks\",\"Data to use\\\\movie_data.csv\")\n",
    "new_path\n",
    "df=pd.read_csv(new_path)\n"
   ]
  },
  {
   "cell_type": "code",
   "execution_count": 11,
   "metadata": {},
   "outputs": [
    {
     "data": {
      "text/html": [
       "<div>\n",
       "<style scoped>\n",
       "    .dataframe tbody tr th:only-of-type {\n",
       "        vertical-align: middle;\n",
       "    }\n",
       "\n",
       "    .dataframe tbody tr th {\n",
       "        vertical-align: top;\n",
       "    }\n",
       "\n",
       "    .dataframe thead th {\n",
       "        text-align: right;\n",
       "    }\n",
       "</style>\n",
       "<table border=\"1\" class=\"dataframe\">\n",
       "  <thead>\n",
       "    <tr style=\"text-align: right;\">\n",
       "      <th></th>\n",
       "      <th>review</th>\n",
       "      <th>sentiment</th>\n",
       "    </tr>\n",
       "  </thead>\n",
       "  <tbody>\n",
       "    <tr>\n",
       "      <th>0</th>\n",
       "      <td>In 1974, the teenager Martha Moxley (Maggie Gr...</td>\n",
       "      <td>1</td>\n",
       "    </tr>\n",
       "    <tr>\n",
       "      <th>1</th>\n",
       "      <td>OK... so... I really like Kris Kristofferson a...</td>\n",
       "      <td>0</td>\n",
       "    </tr>\n",
       "    <tr>\n",
       "      <th>2</th>\n",
       "      <td>***SPOILER*** Do not read this, if you think a...</td>\n",
       "      <td>0</td>\n",
       "    </tr>\n",
       "    <tr>\n",
       "      <th>3</th>\n",
       "      <td>hi for all the people who have seen this wonde...</td>\n",
       "      <td>1</td>\n",
       "    </tr>\n",
       "    <tr>\n",
       "      <th>4</th>\n",
       "      <td>I recently bought the DVD, forgetting just how...</td>\n",
       "      <td>0</td>\n",
       "    </tr>\n",
       "  </tbody>\n",
       "</table>\n",
       "</div>"
      ],
      "text/plain": [
       "                                              review  sentiment\n",
       "0  In 1974, the teenager Martha Moxley (Maggie Gr...          1\n",
       "1  OK... so... I really like Kris Kristofferson a...          0\n",
       "2  ***SPOILER*** Do not read this, if you think a...          0\n",
       "3  hi for all the people who have seen this wonde...          1\n",
       "4  I recently bought the DVD, forgetting just how...          0"
      ]
     },
     "execution_count": 11,
     "metadata": {},
     "output_type": "execute_result"
    }
   ],
   "source": [
    "df.head()\n"
   ]
  },
  {
   "cell_type": "code",
   "execution_count": 12,
   "metadata": {},
   "outputs": [
    {
     "name": "stdout",
     "output_type": "stream",
     "text": [
      "Index(['review', 'sentiment'], dtype='object')\n",
      "0        1\n",
      "1        0\n",
      "2        0\n",
      "3        1\n",
      "4        0\n",
      "5        1\n",
      "6        1\n",
      "7        1\n",
      "8        1\n",
      "9        1\n",
      "10       0\n",
      "11       1\n",
      "12       0\n",
      "13       0\n",
      "14       1\n",
      "15       0\n",
      "16       0\n",
      "17       1\n",
      "18       0\n",
      "19       1\n",
      "20       0\n",
      "21       0\n",
      "22       0\n",
      "23       0\n",
      "24       0\n",
      "25       1\n",
      "26       0\n",
      "27       1\n",
      "28       0\n",
      "29       1\n",
      "        ..\n",
      "49970    1\n",
      "49971    0\n",
      "49972    1\n",
      "49973    1\n",
      "49974    0\n",
      "49975    1\n",
      "49976    0\n",
      "49977    1\n",
      "49978    0\n",
      "49979    1\n",
      "49980    0\n",
      "49981    0\n",
      "49982    0\n",
      "49983    1\n",
      "49984    0\n",
      "49985    0\n",
      "49986    0\n",
      "49987    0\n",
      "49988    0\n",
      "49989    0\n",
      "49990    0\n",
      "49991    0\n",
      "49992    0\n",
      "49993    1\n",
      "49994    1\n",
      "49995    0\n",
      "49996    0\n",
      "49997    0\n",
      "49998    0\n",
      "49999    1\n",
      "Name: sentiment, Length: 50000, dtype: int64\n"
     ]
    }
   ],
   "source": [
    "labels=df[\"sentiment\"].copy() #capture targets\n",
    "#df.drop([\"Title\",\"Sub-Domain\",\"Domain\",\"Unnamed: 0\", \"Unnamed: 0.1\", \"Unnamed: 0.1.1\",\"Unnamed: 0.1.1.1\"],axis=1,inplace=True)\n",
    "#\"Unnamed: 0\", \"Unnamed: 0.1\", \"Unnamed: 0.1.1\"\n",
    "print(df.columns)#\n",
    "print(labels)"
   ]
  },
  {
   "cell_type": "code",
   "execution_count": 13,
   "metadata": {},
   "outputs": [
    {
     "name": "stdout",
     "output_type": "stream",
     "text": [
      "Index(['review', 'sentiment'], dtype='object')\n",
      "[1 0]\n",
      "2\n"
     ]
    }
   ],
   "source": [
    "print(df.columns)#\n",
    "print(labels.unique())\n",
    "print(labels.nunique())"
   ]
  },
  {
   "cell_type": "markdown",
   "metadata": {},
   "source": [
    "# Process text data"
   ]
  },
  {
   "cell_type": "code",
   "execution_count": 14,
   "metadata": {},
   "outputs": [
    {
     "data": {
      "text/html": [
       "<div>\n",
       "<style scoped>\n",
       "    .dataframe tbody tr th:only-of-type {\n",
       "        vertical-align: middle;\n",
       "    }\n",
       "\n",
       "    .dataframe tbody tr th {\n",
       "        vertical-align: top;\n",
       "    }\n",
       "\n",
       "    .dataframe thead th {\n",
       "        text-align: right;\n",
       "    }\n",
       "</style>\n",
       "<table border=\"1\" class=\"dataframe\">\n",
       "  <thead>\n",
       "    <tr style=\"text-align: right;\">\n",
       "      <th></th>\n",
       "      <th>review</th>\n",
       "      <th>sentiment</th>\n",
       "    </tr>\n",
       "  </thead>\n",
       "  <tbody>\n",
       "    <tr>\n",
       "      <th>0</th>\n",
       "      <td>In 1974, the teenager Martha Moxley (Maggie Gr...</td>\n",
       "      <td>1</td>\n",
       "    </tr>\n",
       "    <tr>\n",
       "      <th>1</th>\n",
       "      <td>OK... so... I really like Kris Kristofferson a...</td>\n",
       "      <td>0</td>\n",
       "    </tr>\n",
       "    <tr>\n",
       "      <th>2</th>\n",
       "      <td>***SPOILER*** Do not read this, if you think a...</td>\n",
       "      <td>0</td>\n",
       "    </tr>\n",
       "    <tr>\n",
       "      <th>3</th>\n",
       "      <td>hi for all the people who have seen this wonde...</td>\n",
       "      <td>1</td>\n",
       "    </tr>\n",
       "    <tr>\n",
       "      <th>4</th>\n",
       "      <td>I recently bought the DVD, forgetting just how...</td>\n",
       "      <td>0</td>\n",
       "    </tr>\n",
       "    <tr>\n",
       "      <th>5</th>\n",
       "      <td>Leave it to Braik to put on a good show. Final...</td>\n",
       "      <td>1</td>\n",
       "    </tr>\n",
       "    <tr>\n",
       "      <th>6</th>\n",
       "      <td>Nathan Detroit (Frank Sinatra) is the manager ...</td>\n",
       "      <td>1</td>\n",
       "    </tr>\n",
       "    <tr>\n",
       "      <th>7</th>\n",
       "      <td>To understand \"Crash Course\" in the right cont...</td>\n",
       "      <td>1</td>\n",
       "    </tr>\n",
       "    <tr>\n",
       "      <th>8</th>\n",
       "      <td>I've been impressed with Chavez's stance again...</td>\n",
       "      <td>1</td>\n",
       "    </tr>\n",
       "    <tr>\n",
       "      <th>9</th>\n",
       "      <td>This movie is directed by Renny Harlin the fin...</td>\n",
       "      <td>1</td>\n",
       "    </tr>\n",
       "  </tbody>\n",
       "</table>\n",
       "</div>"
      ],
      "text/plain": [
       "                                              review  sentiment\n",
       "0  In 1974, the teenager Martha Moxley (Maggie Gr...          1\n",
       "1  OK... so... I really like Kris Kristofferson a...          0\n",
       "2  ***SPOILER*** Do not read this, if you think a...          0\n",
       "3  hi for all the people who have seen this wonde...          1\n",
       "4  I recently bought the DVD, forgetting just how...          0\n",
       "5  Leave it to Braik to put on a good show. Final...          1\n",
       "6  Nathan Detroit (Frank Sinatra) is the manager ...          1\n",
       "7  To understand \"Crash Course\" in the right cont...          1\n",
       "8  I've been impressed with Chavez's stance again...          1\n",
       "9  This movie is directed by Renny Harlin the fin...          1"
      ]
     },
     "execution_count": 14,
     "metadata": {},
     "output_type": "execute_result"
    }
   ],
   "source": [
    "df.head(10)"
   ]
  },
  {
   "cell_type": "markdown",
   "metadata": {},
   "source": [
    "# 1)Stopword removal"
   ]
  },
  {
   "cell_type": "code",
   "execution_count": 15,
   "metadata": {},
   "outputs": [
    {
     "name": "stdout",
     "output_type": "stream",
     "text": [
      "['i', 'me', 'my', 'myself', 'we', 'our', 'ours', 'ourselves', 'you', \"you're\", \"you've\", \"you'll\", \"you'd\", 'your', 'yours', 'yourself', 'yourselves', 'he', 'him', 'his', 'himself', 'she', \"she's\", 'her', 'hers', 'herself', 'it', \"it's\", 'its', 'itself', 'they', 'them', 'their', 'theirs', 'themselves', 'what', 'which', 'who', 'whom', 'this', 'that', \"that'll\", 'these', 'those', 'am', 'is', 'are', 'was', 'were', 'be', 'been', 'being', 'have', 'has', 'had', 'having', 'do', 'does', 'did', 'doing', 'a', 'an', 'the', 'and', 'but', 'if', 'or', 'because', 'as', 'until', 'while', 'of', 'at', 'by', 'for', 'with', 'about', 'against', 'between', 'into', 'through', 'during', 'before', 'after', 'above', 'below', 'to', 'from', 'up', 'down', 'in', 'out', 'on', 'off', 'over', 'under', 'again', 'further', 'then', 'once', 'here', 'there', 'when', 'where', 'why', 'how', 'all', 'any', 'both', 'each', 'few', 'more', 'most', 'other', 'some', 'such', 'no', 'nor', 'not', 'only', 'own', 'same', 'so', 'than', 'too', 'very', 's', 't', 'can', 'will', 'just', 'don', \"don't\", 'should', \"should've\", 'now', 'd', 'll', 'm', 'o', 're', 've', 'y', 'ain', 'aren', \"aren't\", 'couldn', \"couldn't\", 'didn', \"didn't\", 'doesn', \"doesn't\", 'hadn', \"hadn't\", 'hasn', \"hasn't\", 'haven', \"haven't\", 'isn', \"isn't\", 'ma', 'mightn', \"mightn't\", 'mustn', \"mustn't\", 'needn', \"needn't\", 'shan', \"shan't\", 'shouldn', \"shouldn't\", 'wasn', \"wasn't\", 'weren', \"weren't\", 'won', \"won't\", 'wouldn', \"wouldn't\"]\n"
     ]
    },
    {
     "data": {
      "text/plain": [
       "201"
      ]
     },
     "execution_count": 15,
     "metadata": {},
     "output_type": "execute_result"
    }
   ],
   "source": [
    "stop=stopwords.words('english') #Nltk stopwords\n",
    "print(stop)\n",
    "stop.append(\"Hi\")  \n",
    "stop.append(\"Hello\")\n",
    "stop.append(\"Hiya\")\n",
    "stop.append(\"hello\")\n",
    "stop.append(\"Anyone\")\n",
    "stop.append(\"All\")\n",
    "stop.append(\"I\")\n",
    "stop.append(\"hi\")\n",
    "stop.append(\"this\")\n",
    "stop.append(\"My\")\n",
    "stop.append(\"Everyone\")\n",
    "stop.append(\"everyone\")\n",
    "stop.append(\"Me\")\n",
    "stop.append(\"Im\")\n",
    "stop.append(\"Ive\")\n",
    "stop.append(\"We\")\n",
    "stop.append(\"thank\")\n",
    "stop.append(\"Thank\")\n",
    "stop.append(\"Would\")\n",
    "stop.append(\"would\")\n",
    "stop.append(\"Afternoon\")\n",
    "stop.append(\"There\")\n",
    "len(stop)"
   ]
  },
  {
   "cell_type": "code",
   "execution_count": 16,
   "metadata": {},
   "outputs": [],
   "source": [
    "def is_number(s):  #Function helps removing numbers\n",
    "    try:\n",
    "        float(s)\n",
    "        return True\n",
    "    except ValueError:\n",
    "        return False"
   ]
  },
  {
   "cell_type": "code",
   "execution_count": 17,
   "metadata": {},
   "outputs": [],
   "source": [
    "#Define text-processing functions\n",
    "translator = str.maketrans('', '', string.punctuation)\n",
    "def tokenize(text):\n",
    "    new_text=text.translate(translator)\n",
    "    return [word for word in new_text.split()]\n",
    "\n",
    "def stop_word_remove(text):\n",
    "    return [w for w in tokenize(text) if w not in stop]\n",
    "\n",
    "\n",
    "\n",
    "discarded_words=[]            \n",
    "def stop_word_remove_and_numbers(text):\n",
    "    list_of_tokens=tokenize(text) #Tokenize the string that came in as a string\n",
    "    return_list=[]  #list to return \n",
    "    for token in list_of_tokens:\n",
    "        if token.lower() not in stop and is_number(token)==False:\n",
    "            return_list.append(token)\n",
    "        else:\n",
    "            #print(token)\n",
    "            discarded_words.append(token)\n",
    "    #return [w for w in tokenize(text) if w not in stop]\n",
    "    return return_list \n",
    "    "
   ]
  },
  {
   "cell_type": "code",
   "execution_count": 18,
   "metadata": {},
   "outputs": [],
   "source": [
    "intermidiate_frame=df[\"review\"].apply(stop_word_remove_and_numbers)"
   ]
  },
  {
   "cell_type": "markdown",
   "metadata": {},
   "source": [
    "# 2) Lemmatizing"
   ]
  },
  {
   "cell_type": "code",
   "execution_count": 19,
   "metadata": {},
   "outputs": [],
   "source": [
    "\n",
    "\n",
    "def lemmatize(text): #SpaCy\n",
    "    \"Accepts string as input\"\n",
    "    \n",
    "    joined=\" \".join(text)\n",
    " \n",
    "    return [token.lemma_ for token in nlp(joined)]\n",
    " "
   ]
  },
  {
   "cell_type": "code",
   "execution_count": 20,
   "metadata": {},
   "outputs": [
    {
     "data": {
      "text/plain": [
       "0        [teenager, Martha, Moxley, Maggie, Grace, move...\n",
       "1        [ok, really, like, Kris, Kristofferson, usual,...\n",
       "2        [SPOILER, read, think, watch, movie, although,...\n",
       "3        [people, see, wonderful, movie, -PRON-, be, su...\n",
       "4        [recently, buy, dvd, forget, much, hate, movie...\n",
       "5        [leave, Braik, put, good, show, finally, Zorak...\n",
       "6        [Nathan, Detroit, Frank, Sinatra, manager, New...\n",
       "7        [understand, Crash, Course, right, context, mu...\n",
       "8        [-PRON-, have, impressed, Chavezs, stance, glo...\n",
       "9        [movie, direct, Renny, Harlin, finnish, miracl...\n",
       "10       [live, let, tell, do, not, foggyest, idea, hec...\n",
       "11       [Hidden, Frontier, notable, longest, run, inte...\n",
       "12       [ago, see, Sleuth, two, great, actor, Michael,...\n",
       "13       [French, First, apparently, like, Jerry, Lewis...\n",
       "14       [strange, movie, unlike, anything, make, west,...\n",
       "15       [see, movie, strength, single, positive, revie...\n",
       "16       [great, philosophical, question, purpose, life...\n",
       "17       [cast, Surfer, Dude, beach, scene, almost, get...\n",
       "18       [high, hope, one, change, name, Shepherd, Bord...\n",
       "19       [Set, near, poor, work, class, town, mountain,...\n",
       "20       [opulent, set, sumptuous, costume, well, photo...\n",
       "21       [saw, film, get, screw, film, foolish, boring,...\n",
       "22       [-PRON-, be, get, little, tired, people, misus...\n",
       "23       [offensive, like, movie, probably, never, open...\n",
       "24       [else, say, movieexcept, plain, awfulTina, Lou...\n",
       "25       [certain, aspect, Punishment, Park, less, perf...\n",
       "26       [first, -PRON-, would, like, tell, -PRON-, be,...\n",
       "27       [take, say, lightly, -PRON-, have, see, many, ...\n",
       "28       [love, Jurassic, Park, movie, three, time, fav...\n",
       "29       [first, series, Lost, kick, bang, literally, s...\n",
       "                               ...                        \n",
       "49970    [Tom, Fontanas, unforgettable, Oz, hand, one, ...\n",
       "49971    [last, weekend, buy, zombie, movie, bargain, b...\n",
       "49972    [watch, first, moment, TCM, year, ago, stop, m...\n",
       "49973    [see, movie, first, time, HBO, love, hilarious...\n",
       "49974    [Al, Pacino, Kim, Basinger, Tea, Leoni, Ryan, ...\n",
       "49975    [Stanwyck, villainous, good, Robinson, equal, ...\n",
       "49976    [allegation, aggravate, sexual, assault, along...\n",
       "49977    [thought, movie, wonderfully, plot, make, conf...\n",
       "49978    [like, people, could, not, wait, see, Oceans, ...\n",
       "49979    [dark, comedy, gallow, humor, one, make, comed...\n",
       "49980    [probably, contain, spoilersbr, br, successful...\n",
       "49981    [must, one, guy, America, do, not, like, movie...\n",
       "49982    [plot, trucker, Kristofferson, battle, corrupt...\n",
       "49983    [lady, Man, laugh, loud, funny, great, diverse...\n",
       "49984    [well, artyfartyrati, Cannes, may, like, film,...\n",
       "49985    [director, probably, still, early, learning, s...\n",
       "49986    [know, -PRON-, be, bus, someone, decide, tell,...\n",
       "49987    [five, minute, movie, realize, see, BOILER, ro...\n",
       "49988    [-PRON-, have, laugh, much, long, time, need, ...\n",
       "49989    [love, diss, movie, peer, always, try, best, d...\n",
       "49990    [ok, think, tv, show, kind, cute, always, kind...\n",
       "49991    [big, disappointment, clash, night, much, talk...\n",
       "49992    [CassidyKacia, Bradyputs, gun, mouth, blow, ba...\n",
       "49993    [rapid, intercutting, scene, insane, people, a...\n",
       "49994    [Girlfight, come, review, praise, do, not, get...\n",
       "49995    [ok, let, start, good, building, although, har...\n",
       "49996    [british, heritage, film, industry, control, t...\n",
       "49997    [do, not, even, know, begin, one, family, bad,...\n",
       "49998    [Richard, Tyler, little, boy, scare, everythin...\n",
       "49999    [wait, long, watch, movie, also, like, Bruce, ...\n",
       "Name: review, Length: 50000, dtype: object"
      ]
     },
     "execution_count": 20,
     "metadata": {},
     "output_type": "execute_result"
    }
   ],
   "source": [
    "processed_Dataframe=intermidiate_frame.apply(lemmatize)\n",
    "processed_Dataframe"
   ]
  },
  {
   "cell_type": "code",
   "execution_count": 21,
   "metadata": {},
   "outputs": [],
   "source": [
    "def join_to_string(text_list):\n",
    "    return \" \".join(text_list)"
   ]
  },
  {
   "cell_type": "code",
   "execution_count": 22,
   "metadata": {},
   "outputs": [],
   "source": [
    "final_df=processed_Dataframe.apply(join_to_string)"
   ]
  },
  {
   "cell_type": "code",
   "execution_count": 23,
   "metadata": {
    "scrolled": true
   },
   "outputs": [
    {
     "data": {
      "text/plain": [
       "'teenager Martha Moxley Maggie Grace move highclass area Belle Greenwich Connecticut Mischief Night eve Halloween murder backyard house murder remain unsolved Twentytwo year later writer Mark Fuhrman Christopher Meloni former LA detective fall disgrace perjury OJ Simpson trial move Idaho decide investigate case partner Stephen Weeks Andrew Mitchell purpose write book local squirm welcome support retire detective Steve Carroll Robert Forster charge investigation 70 discover criminal net power money cover murderbr br Murder Greenwich good tv movie true story murder fifteen year old girl commit wealthy teenager whose mother Kennedy powerful rich family use influence cover murder twenty year however snoopy detective convict perjurer disgrace able disclose hideous crime commit screenplay show investigation Mark last day Martha parallel lack emotion dramatization vote sevenbr br Title Brazil available'"
      ]
     },
     "execution_count": 23,
     "metadata": {},
     "output_type": "execute_result"
    }
   ],
   "source": [
    "final_df[0]"
   ]
  },
  {
   "cell_type": "code",
   "execution_count": 24,
   "metadata": {},
   "outputs": [
    {
     "data": {
      "text/plain": [
       "'In 1974, the teenager Martha Moxley (Maggie Grace) moves to the high-class area of Belle Haven, Greenwich, Connecticut. On the Mischief Night, eve of Halloween, she was murdered in the backyard of her house and her murder remained unsolved. Twenty-two years later, the writer Mark Fuhrman (Christopher Meloni), who is a former LA detective that has fallen in disgrace for perjury in O.J. Simpson trial and moved to Idaho, decides to investigate the case with his partner Stephen Weeks (Andrew Mitchell) with the purpose of writing a book. The locals squirm and do not welcome them, but with the support of the retired detective Steve Carroll (Robert Forster) that was in charge of the investigation in the 70\\'s, they discover the criminal and a net of power and money to cover the murder.<br /><br />\"Murder in Greenwich\" is a good TV movie, with the true story of a murder of a fifteen years old girl that was committed by a wealthy teenager whose mother was a Kennedy. The powerful and rich family used their influence to cover the murder for more than twenty years. However, a snoopy detective and convicted perjurer in disgrace was able to disclose how the hideous crime was committed. The screenplay shows the investigation of Mark and the last days of Martha in parallel, but there is a lack of the emotion in the dramatization. My vote is seven.<br /><br />Title (Brazil): Not Available'"
      ]
     },
     "execution_count": 24,
     "metadata": {},
     "output_type": "execute_result"
    }
   ],
   "source": [
    "df[\"review\"].iloc[0]"
   ]
  },
  {
   "cell_type": "code",
   "execution_count": 26,
   "metadata": {},
   "outputs": [],
   "source": [
    "f_df=pd.DataFrame(final_df)"
   ]
  },
  {
   "cell_type": "code",
   "execution_count": 27,
   "metadata": {},
   "outputs": [
    {
     "data": {
      "text/html": [
       "<div>\n",
       "<style scoped>\n",
       "    .dataframe tbody tr th:only-of-type {\n",
       "        vertical-align: middle;\n",
       "    }\n",
       "\n",
       "    .dataframe tbody tr th {\n",
       "        vertical-align: top;\n",
       "    }\n",
       "\n",
       "    .dataframe thead th {\n",
       "        text-align: right;\n",
       "    }\n",
       "</style>\n",
       "<table border=\"1\" class=\"dataframe\">\n",
       "  <thead>\n",
       "    <tr style=\"text-align: right;\">\n",
       "      <th></th>\n",
       "      <th>review</th>\n",
       "    </tr>\n",
       "  </thead>\n",
       "  <tbody>\n",
       "    <tr>\n",
       "      <th>0</th>\n",
       "      <td>teenager Martha Moxley Maggie Grace move highc...</td>\n",
       "    </tr>\n",
       "    <tr>\n",
       "      <th>1</th>\n",
       "      <td>ok really like Kris Kristofferson usual easy g...</td>\n",
       "    </tr>\n",
       "    <tr>\n",
       "      <th>2</th>\n",
       "      <td>SPOILER read think watch movie although waste ...</td>\n",
       "    </tr>\n",
       "    <tr>\n",
       "      <th>3</th>\n",
       "      <td>people see wonderful movie -PRON- be sure thet...</td>\n",
       "    </tr>\n",
       "    <tr>\n",
       "      <th>4</th>\n",
       "      <td>recently buy dvd forget much hate movie versio...</td>\n",
       "    </tr>\n",
       "  </tbody>\n",
       "</table>\n",
       "</div>"
      ],
      "text/plain": [
       "                                              review\n",
       "0  teenager Martha Moxley Maggie Grace move highc...\n",
       "1  ok really like Kris Kristofferson usual easy g...\n",
       "2  SPOILER read think watch movie although waste ...\n",
       "3  people see wonderful movie -PRON- be sure thet...\n",
       "4  recently buy dvd forget much hate movie versio..."
      ]
     },
     "execution_count": 27,
     "metadata": {},
     "output_type": "execute_result"
    }
   ],
   "source": [
    "f_df.head()"
   ]
  },
  {
   "cell_type": "code",
   "execution_count": 28,
   "metadata": {},
   "outputs": [],
   "source": [
    "f_df['sentiment']=labels.copy()"
   ]
  },
  {
   "cell_type": "code",
   "execution_count": 29,
   "metadata": {},
   "outputs": [
    {
     "data": {
      "text/html": [
       "<div>\n",
       "<style scoped>\n",
       "    .dataframe tbody tr th:only-of-type {\n",
       "        vertical-align: middle;\n",
       "    }\n",
       "\n",
       "    .dataframe tbody tr th {\n",
       "        vertical-align: top;\n",
       "    }\n",
       "\n",
       "    .dataframe thead th {\n",
       "        text-align: right;\n",
       "    }\n",
       "</style>\n",
       "<table border=\"1\" class=\"dataframe\">\n",
       "  <thead>\n",
       "    <tr style=\"text-align: right;\">\n",
       "      <th></th>\n",
       "      <th>review</th>\n",
       "      <th>sentiment</th>\n",
       "    </tr>\n",
       "  </thead>\n",
       "  <tbody>\n",
       "    <tr>\n",
       "      <th>0</th>\n",
       "      <td>teenager Martha Moxley Maggie Grace move highc...</td>\n",
       "      <td>1</td>\n",
       "    </tr>\n",
       "    <tr>\n",
       "      <th>1</th>\n",
       "      <td>ok really like Kris Kristofferson usual easy g...</td>\n",
       "      <td>0</td>\n",
       "    </tr>\n",
       "    <tr>\n",
       "      <th>2</th>\n",
       "      <td>SPOILER read think watch movie although waste ...</td>\n",
       "      <td>0</td>\n",
       "    </tr>\n",
       "    <tr>\n",
       "      <th>3</th>\n",
       "      <td>people see wonderful movie -PRON- be sure thet...</td>\n",
       "      <td>1</td>\n",
       "    </tr>\n",
       "    <tr>\n",
       "      <th>4</th>\n",
       "      <td>recently buy dvd forget much hate movie versio...</td>\n",
       "      <td>0</td>\n",
       "    </tr>\n",
       "  </tbody>\n",
       "</table>\n",
       "</div>"
      ],
      "text/plain": [
       "                                              review  sentiment\n",
       "0  teenager Martha Moxley Maggie Grace move highc...          1\n",
       "1  ok really like Kris Kristofferson usual easy g...          0\n",
       "2  SPOILER read think watch movie although waste ...          0\n",
       "3  people see wonderful movie -PRON- be sure thet...          1\n",
       "4  recently buy dvd forget much hate movie versio...          0"
      ]
     },
     "execution_count": 29,
     "metadata": {},
     "output_type": "execute_result"
    }
   ],
   "source": [
    "f_df.head()"
   ]
  },
  {
   "cell_type": "code",
   "execution_count": 31,
   "metadata": {},
   "outputs": [],
   "source": [
    "f_df.to_excel(\"processed_data.xlsx\")"
   ]
  },
  {
   "cell_type": "code",
   "execution_count": 32,
   "metadata": {},
   "outputs": [],
   "source": [
    "#save df\n",
    "#final_df.to_excel(\"processed_data.xlsx\")\n",
    "final_df=pd.read_excel(\"processed_data.xlsx\")\n",
    "labels=final_df[\"sentiment\"].copy()"
   ]
  },
  {
   "cell_type": "markdown",
   "metadata": {},
   "source": [
    "# Transform to word vectors--count vectors"
   ]
  },
  {
   "cell_type": "code",
   "execution_count": 33,
   "metadata": {},
   "outputs": [],
   "source": [
    "vectorizer=TfidfVectorizer()\n",
    "X_train, X_test, y_train, y_test = train_test_split(final_df[\"review\"], labels, test_size=0.20, random_state=1,stratify=labels)"
   ]
  },
  {
   "cell_type": "code",
   "execution_count": 34,
   "metadata": {},
   "outputs": [],
   "source": [
    "vectors_train=vectorizer.fit_transform(X_train)"
   ]
  },
  {
   "cell_type": "code",
   "execution_count": 36,
   "metadata": {},
   "outputs": [
    {
     "data": {
      "text/plain": [
       "<10000x148593 sparse matrix of type '<class 'numpy.float64'>'\n",
       "\twith 940002 stored elements in Compressed Sparse Row format>"
      ]
     },
     "execution_count": 36,
     "metadata": {},
     "output_type": "execute_result"
    }
   ],
   "source": [
    "vectors_test=vectorizer.transform(X_test) \n",
    "#Sparse matrix\n",
    "vectors_test"
   ]
  },
  {
   "cell_type": "markdown",
   "metadata": {},
   "source": [
    "# Feature selection"
   ]
  },
  {
   "cell_type": "code",
   "execution_count": 37,
   "metadata": {},
   "outputs": [],
   "source": [
    "from sklearn.feature_selection import SelectKBest, chi2,mutual_info_classif"
   ]
  },
  {
   "cell_type": "code",
   "execution_count": 38,
   "metadata": {},
   "outputs": [],
   "source": [
    "import scipy.sparse"
   ]
  },
  {
   "cell_type": "code",
   "execution_count": 39,
   "metadata": {},
   "outputs": [
    {
     "name": "stdout",
     "output_type": "stream",
     "text": [
      "(40000, 100)\n"
     ]
    }
   ],
   "source": [
    "selector=SelectKBest(mutual_info_classif, k=100)\n",
    "\n",
    "reduced_vectors_train =selector.fit_transform(vectors_train, y_train)\n",
    "print(reduced_vectors_train.shape)\n",
    "\n"
   ]
  },
  {
   "cell_type": "code",
   "execution_count": 40,
   "metadata": {
    "scrolled": false
   },
   "outputs": [
    {
     "data": {
      "text/plain": [
       "<40000x100 sparse matrix of type '<class 'numpy.float64'>'\n",
       "\twith 939779 stored elements in Compressed Sparse Row format>"
      ]
     },
     "execution_count": 40,
     "metadata": {},
     "output_type": "execute_result"
    }
   ],
   "source": [
    "reduced_vectors_train"
   ]
  },
  {
   "cell_type": "code",
   "execution_count": 41,
   "metadata": {},
   "outputs": [],
   "source": [
    "reduced_vectors_test =selector.transform(vectors_test)"
   ]
  },
  {
   "cell_type": "code",
   "execution_count": 42,
   "metadata": {
    "scrolled": false
   },
   "outputs": [
    {
     "data": {
      "text/plain": [
       "<10000x100 sparse matrix of type '<class 'numpy.float64'>'\n",
       "\twith 234914 stored elements in Compressed Sparse Row format>"
      ]
     },
     "execution_count": 42,
     "metadata": {},
     "output_type": "execute_result"
    }
   ],
   "source": [
    "reduced_vectors_test"
   ]
  },
  {
   "cell_type": "code",
   "execution_count": 43,
   "metadata": {},
   "outputs": [
    {
     "name": "stdout",
     "output_type": "stream",
     "text": [
      "[  2906   3136   3313   5737   7167   8769  10919  11079  12685  13022\n",
      "  14569  17521  20743  21891  23134  26798  29378  32612  35822  36921\n",
      "  41627  42070  43263  43317  43465  45040  46483  47233  47730  47990\n",
      "  51142  52968  53639  53998  54457  55532  56766  58717  72047  74444\n",
      "  75491  75735  76367  76921  77051  77334  77475  79207  79557  80056\n",
      "  86665  87310  89783  89827  91609  91692  93547  93852  97190  98322\n",
      "  98538 100420 100672 101001 103114 103888 105713 107008 107108 111014\n",
      " 113685 114017 115514 115575 116873 118574 121834 124109 124264 124879\n",
      " 125269 128776 129976 130662 131288 131369 131674 132325 135260 135576\n",
      " 135952 139161 142055 142451 142693 143205 145460 145850 147120 147576]\n"
     ]
    }
   ],
   "source": [
    "print(selector.get_support(indices=True))"
   ]
  },
  {
   "cell_type": "code",
   "execution_count": 44,
   "metadata": {},
   "outputs": [],
   "source": [
    "a=selector.get_support(indices=True)"
   ]
  },
  {
   "cell_type": "code",
   "execution_count": 45,
   "metadata": {},
   "outputs": [
    {
     "data": {
      "text/plain": [
       "100"
      ]
     },
     "execution_count": 45,
     "metadata": {},
     "output_type": "execute_result"
    }
   ],
   "source": [
    "len(a)"
   ]
  },
  {
   "cell_type": "code",
   "execution_count": 46,
   "metadata": {},
   "outputs": [],
   "source": [
    "feature_dict=vectorizer.vocabulary_"
   ]
  },
  {
   "cell_type": "code",
   "execution_count": 49,
   "metadata": {},
   "outputs": [
    {
     "data": {
      "text/plain": [
       "'year'"
      ]
     },
     "execution_count": 49,
     "metadata": {},
     "output_type": "execute_result"
    }
   ],
   "source": [
    "vectorizer.get_feature_names()[147120]"
   ]
  },
  {
   "cell_type": "code",
   "execution_count": 50,
   "metadata": {},
   "outputs": [
    {
     "data": {
      "text/plain": [
       "'work'"
      ]
     },
     "execution_count": 50,
     "metadata": {},
     "output_type": "execute_result"
    }
   ],
   "source": [
    "vectorizer.get_feature_names()[145850]"
   ]
  },
  {
   "cell_type": "code",
   "execution_count": 51,
   "metadata": {},
   "outputs": [],
   "source": [
    "dict=np.asarray(vectorizer.get_feature_names())[selector.get_support()]\n",
    "count_vectorizer=TfidfVectorizer(strip_accents='unicode', ngram_range=(1,1), binary=True,  vocabulary=dict)"
   ]
  },
  {
   "cell_type": "code",
   "execution_count": 52,
   "metadata": {
    "scrolled": true
   },
   "outputs": [
    {
     "data": {
      "text/plain": [
       "array(['act', 'actor', 'actually', 'also', 'another', 'around', 'back',\n",
       "       'bad', 'be', 'become', 'big', 'br', 'can', 'cast', 'character',\n",
       "       'come', 'could', 'day', 'director', 'do', 'end', 'enough', 'even',\n",
       "       'ever', 'every', 'fact', 'feel', 'film', 'find', 'first', 'funny',\n",
       "       'get', 'give', 'go', 'good', 'great', 'guy', 'have', 'know',\n",
       "       'leave', 'life', 'like', 'little', 'long', 'look', 'lot', 'love',\n",
       "       'make', 'man', 'many', 'movie', 'much', 'never', 'new', 'not',\n",
       "       'nothing', 'old', 'one', 'part', 'people', 'performance', 'play',\n",
       "       'plot', 'point', 'pretty', 'pron', 'quite', 'real', 'really',\n",
       "       'role', 'say', 'scene', 'see', 'seem', 'set', 'show', 'something',\n",
       "       'star', 'start', 'still', 'story', 'take', 'tell', 'that', 'thing',\n",
       "       'think', 'though', 'time', 'try', 'turn', 'two', 'use', 'want',\n",
       "       'watch', 'way', 'well', 'woman', 'work', 'year', 'young'],\n",
       "      dtype='<U64')"
      ]
     },
     "execution_count": 52,
     "metadata": {},
     "output_type": "execute_result"
    }
   ],
   "source": [
    "count_vectorizer.vocabulary #most importan terms (100-terms vocabulary) "
   ]
  },
  {
   "cell_type": "markdown",
   "metadata": {},
   "source": [
    "# Initialize-fit the classifier - Test"
   ]
  },
  {
   "cell_type": "code",
   "execution_count": 53,
   "metadata": {},
   "outputs": [],
   "source": [
    "classifier=LogisticRegression(random_state=1)\n",
    "#Stritified results means that the proportion of the labels is kept in the test-set"
   ]
  },
  {
   "cell_type": "code",
   "execution_count": 54,
   "metadata": {},
   "outputs": [
    {
     "name": "stderr",
     "output_type": "stream",
     "text": [
      "C:\\Users\\billy\\AppData\\Local\\Continuum\\anaconda3\\lib\\site-packages\\sklearn\\linear_model\\logistic.py:432: FutureWarning: Default solver will be changed to 'lbfgs' in 0.22. Specify a solver to silence this warning.\n",
      "  FutureWarning)\n"
     ]
    },
    {
     "data": {
      "text/plain": [
       "0.7453"
      ]
     },
     "execution_count": 54,
     "metadata": {},
     "output_type": "execute_result"
    }
   ],
   "source": [
    "classifier.fit(X=reduced_vectors_train,y=y_train)\n",
    "classifier.score(X=reduced_vectors_test,y=y_test) #accuracy"
   ]
  },
  {
   "cell_type": "code",
   "execution_count": 55,
   "metadata": {},
   "outputs": [],
   "source": [
    "predicted_labels=classifier.predict(reduced_vectors_test)\n",
    "names=y_test.unique()"
   ]
  },
  {
   "cell_type": "code",
   "execution_count": 56,
   "metadata": {
    "scrolled": true
   },
   "outputs": [
    {
     "name": "stdout",
     "output_type": "stream",
     "text": [
      "              precision    recall  f1-score   support\n",
      "\n",
      "           0       0.77      0.71      0.73      5000\n",
      "           1       0.73      0.78      0.75      5000\n",
      "\n",
      "    accuracy                           0.75     10000\n",
      "   macro avg       0.75      0.75      0.74     10000\n",
      "weighted avg       0.75      0.75      0.74     10000\n",
      "\n"
     ]
    }
   ],
   "source": [
    "print(metrics.classification_report(y_test, predicted_labels,y_train.unique().sort()))"
   ]
  },
  {
   "cell_type": "code",
   "execution_count": 57,
   "metadata": {
    "scrolled": false
   },
   "outputs": [
    {
     "data": {
      "text/plain": [
       "array([[3529, 1471],\n",
       "       [1076, 3924]], dtype=int64)"
      ]
     },
     "execution_count": 57,
     "metadata": {},
     "output_type": "execute_result"
    }
   ],
   "source": [
    "metrics.confusion_matrix(y_test, predicted_labels)"
   ]
  },
  {
   "cell_type": "code",
   "execution_count": 58,
   "metadata": {
    "scrolled": true
   },
   "outputs": [
    {
     "data": {
      "image/png": "[encoded data removed]",
      "text/plain": [
       "<Figure size 432x288 with 1 Axes>"
      ]
     },
     "metadata": {
      "needs_background": "light"
     },
     "output_type": "display_data"
    },
    {
     "data": {
      "text/plain": [
       "<matplotlib.axes._subplots.AxesSubplot at 0x23477d4da58>"
      ]
     },
     "execution_count": 58,
     "metadata": {},
     "output_type": "execute_result"
    }
   ],
   "source": [
    "model = LogisticRegression(random_state=1)\n",
    "\n",
    "# The ConfusionMatrix visualizer taxes a model\n",
    "cm = ConfusionMatrix(model, classes=y_train.unique())\n",
    "\n",
    "# Fit fits the passed model. This is unnecessary if you pass the visualizer a pre-fitted model\n",
    "cm.fit(reduced_vectors_train, y_train)\n",
    "\n",
    "# To create the ConfusionMatrix, we need some test data. Score runs predict() on the data\n",
    "# and then creates the confusion_matrix from scikit-learn.\n",
    "cm.score(reduced_vectors_test, y_test)\n",
    "\n",
    "# How did we do?\n",
    "cm.poof()"
   ]
  },
  {
   "cell_type": "code",
   "execution_count": 59,
   "metadata": {},
   "outputs": [
    {
     "data": {
      "text/plain": [
       "0.750175"
      ]
     },
     "execution_count": 59,
     "metadata": {},
     "output_type": "execute_result"
    }
   ],
   "source": [
    "#training score\n",
    "classifier.score(X=reduced_vectors_train,y=y_train) #accuracy"
   ]
  },
  {
   "cell_type": "code",
   "execution_count": 60,
   "metadata": {},
   "outputs": [],
   "source": [
    "predicted_labels=classifier.predict(reduced_vectors_train)\n",
    "names=y_test.unique()"
   ]
  },
  {
   "cell_type": "code",
   "execution_count": 61,
   "metadata": {},
   "outputs": [
    {
     "name": "stdout",
     "output_type": "stream",
     "text": [
      "              precision    recall  f1-score   support\n",
      "\n",
      "           0       0.77      0.72      0.74     20000\n",
      "           1       0.73      0.78      0.76     20000\n",
      "\n",
      "    accuracy                           0.75     40000\n",
      "   macro avg       0.75      0.75      0.75     40000\n",
      "weighted avg       0.75      0.75      0.75     40000\n",
      "\n"
     ]
    }
   ],
   "source": [
    "print(metrics.classification_report(y_train, predicted_labels,y_train.unique().sort()))\n",
    "#training score end"
   ]
  },
  {
   "cell_type": "markdown",
   "metadata": {},
   "source": [
    "# SVM using Gradient Descent"
   ]
  },
  {
   "cell_type": "code",
   "execution_count": 62,
   "metadata": {},
   "outputs": [],
   "source": [
    "classifier_svm=SGDClassifier(loss='hinge', penalty='l2', random_state=1,max_iter=1000)"
   ]
  },
  {
   "cell_type": "code",
   "execution_count": 63,
   "metadata": {},
   "outputs": [
    {
     "data": {
      "text/plain": [
       "0.7362"
      ]
     },
     "execution_count": 63,
     "metadata": {},
     "output_type": "execute_result"
    }
   ],
   "source": [
    "classifier_svm.fit(X=reduced_vectors_train,y=y_train)\n",
    "classifier_svm.score(X=reduced_vectors_test,y=y_test)"
   ]
  },
  {
   "cell_type": "code",
   "execution_count": 64,
   "metadata": {},
   "outputs": [],
   "source": [
    "predicted_labels=classifier_svm.predict(reduced_vectors_test)"
   ]
  },
  {
   "cell_type": "code",
   "execution_count": 65,
   "metadata": {},
   "outputs": [
    {
     "name": "stdout",
     "output_type": "stream",
     "text": [
      "              precision    recall  f1-score   support\n",
      "\n",
      "           0       0.79      0.65      0.71      5000\n",
      "           1       0.70      0.82      0.76      5000\n",
      "\n",
      "    accuracy                           0.74     10000\n",
      "   macro avg       0.74      0.74      0.73     10000\n",
      "weighted avg       0.74      0.74      0.73     10000\n",
      "\n"
     ]
    }
   ],
   "source": [
    "print(metrics.classification_report(y_test, predicted_labels,y_train.unique().sort()))"
   ]
  },
  {
   "cell_type": "code",
   "execution_count": 66,
   "metadata": {
    "scrolled": true
   },
   "outputs": [
    {
     "data": {
      "image/png": "[encoded data removed]",
      "text/plain": [
       "<Figure size 432x288 with 1 Axes>"
      ]
     },
     "metadata": {
      "needs_background": "light"
     },
     "output_type": "display_data"
    },
    {
     "data": {
      "text/plain": [
       "<matplotlib.axes._subplots.AxesSubplot at 0x234787af6a0>"
      ]
     },
     "execution_count": 66,
     "metadata": {},
     "output_type": "execute_result"
    }
   ],
   "source": [
    "model = SGDClassifier(loss='hinge', penalty='l2', random_state=1,max_iter=1000)\n",
    "\n",
    "# The ConfusionMatrix visualizer taxes a model\n",
    "cm = ConfusionMatrix(model, classes=y_train.unique())\n",
    "\n",
    "# Fit fits the passed model. This is unnecessary if you pass the visualizer a pre-fitted model\n",
    "cm.fit(reduced_vectors_train, y_train)\n",
    "\n",
    "# To create the ConfusionMatrix, we need some test data. Score runs predict() on the data\n",
    "# and then creates the confusion_matrix from scikit-learn.\n",
    "cm.score(reduced_vectors_test, y_test)\n",
    "         \n",
    "# How did we do?\n",
    "cm.poof()"
   ]
  },
  {
   "cell_type": "code",
   "execution_count": 67,
   "metadata": {},
   "outputs": [
    {
     "data": {
      "text/plain": [
       "0.741575"
      ]
     },
     "execution_count": 67,
     "metadata": {},
     "output_type": "execute_result"
    }
   ],
   "source": [
    "#training score\n",
    "classifier_svm.score(X=reduced_vectors_train,y=y_train) \n",
    "\n"
   ]
  },
  {
   "cell_type": "code",
   "execution_count": 68,
   "metadata": {},
   "outputs": [],
   "source": [
    "predicted_labels=classifier_svm.predict(reduced_vectors_train)\n",
    "names=y_test.unique()"
   ]
  },
  {
   "cell_type": "code",
   "execution_count": 69,
   "metadata": {},
   "outputs": [
    {
     "name": "stdout",
     "output_type": "stream",
     "text": [
      "              precision    recall  f1-score   support\n",
      "\n",
      "           0       0.79      0.65      0.72     20000\n",
      "           1       0.71      0.83      0.76     20000\n",
      "\n",
      "    accuracy                           0.74     40000\n",
      "   macro avg       0.75      0.74      0.74     40000\n",
      "weighted avg       0.75      0.74      0.74     40000\n",
      "\n"
     ]
    }
   ],
   "source": [
    "print(metrics.classification_report(y_train, predicted_labels,y_train.unique().sort()))\n",
    "#training score end"
   ]
  },
  {
   "cell_type": "markdown",
   "metadata": {},
   "source": [
    "# Kernel SVM "
   ]
  },
  {
   "cell_type": "code",
   "execution_count": 70,
   "metadata": {},
   "outputs": [],
   "source": [
    "from sklearn.svm import SVC\n",
    "classifier_svm=SVC( kernel=\"poly\", random_state=1,max_iter=1000)\n"
   ]
  },
  {
   "cell_type": "code",
   "execution_count": 46,
   "metadata": {},
   "outputs": [
    {
     "name": "stderr",
     "output_type": "stream",
     "text": [
      "C:\\Users\\billy\\AppData\\Local\\Continuum\\anaconda3\\lib\\site-packages\\sklearn\\svm\\base.py:193: FutureWarning: The default value of gamma will change from 'auto' to 'scale' in version 0.22 to account better for unscaled features. Set gamma explicitly to 'auto' or 'scale' to avoid this warning.\n",
      "  \"avoid this warning.\", FutureWarning)\n",
      "C:\\Users\\billy\\AppData\\Local\\Continuum\\anaconda3\\lib\\site-packages\\sklearn\\svm\\base.py:241: ConvergenceWarning: Solver terminated early (max_iter=1000).  Consider pre-processing your data with StandardScaler or MinMaxScaler.\n",
      "  % self.max_iter, ConvergenceWarning)\n"
     ]
    },
    {
     "data": {
      "text/plain": [
       "SVC(C=1.0, cache_size=200, class_weight=None, coef0=0.0,\n",
       "    decision_function_shape='ovr', degree=3, gamma='auto_deprecated',\n",
       "    kernel='poly', max_iter=1000, probability=False, random_state=1,\n",
       "    shrinking=True, tol=0.001, verbose=False)"
      ]
     },
     "execution_count": 46,
     "metadata": {},
     "output_type": "execute_result"
    }
   ],
   "source": [
    "classifier_svm.fit(reduced_vectors_train,y_train) #too slow"
   ]
  },
  {
   "cell_type": "code",
   "execution_count": 47,
   "metadata": {},
   "outputs": [
    {
     "data": {
      "text/plain": [
       "0.4999"
      ]
     },
     "execution_count": 47,
     "metadata": {},
     "output_type": "execute_result"
    }
   ],
   "source": [
    "classifier_svm.score(reduced_vectors_test,y_test)"
   ]
  },
  {
   "cell_type": "code",
   "execution_count": 48,
   "metadata": {
    "scrolled": true
   },
   "outputs": [
    {
     "name": "stdout",
     "output_type": "stream",
     "text": [
      "              precision    recall  f1-score   support\n",
      "\n",
      "           0       0.33      0.00      0.00      5000\n",
      "           1       0.50      1.00      0.67      5000\n",
      "\n",
      "    accuracy                           0.50     10000\n",
      "   macro avg       0.42      0.50      0.33     10000\n",
      "weighted avg       0.42      0.50      0.33     10000\n",
      "\n"
     ]
    }
   ],
   "source": [
    "predicted_labels=classifier_svm.predict(reduced_vectors_test)\n",
    "print(metrics.classification_report(y_test, predicted_labels,y_train.unique().sort()))"
   ]
  },
  {
   "cell_type": "code",
   "execution_count": 49,
   "metadata": {},
   "outputs": [
    {
     "data": {
      "text/plain": [
       "0.50005"
      ]
     },
     "execution_count": 49,
     "metadata": {},
     "output_type": "execute_result"
    }
   ],
   "source": [
    "classifier_svm.score(reduced_vectors_train,y_train)"
   ]
  },
  {
   "cell_type": "code",
   "execution_count": 50,
   "metadata": {},
   "outputs": [
    {
     "name": "stdout",
     "output_type": "stream",
     "text": [
      "              precision    recall  f1-score   support\n",
      "\n",
      "           0       0.60      0.00      0.00     20000\n",
      "           1       0.50      1.00      0.67     20000\n",
      "\n",
      "    accuracy                           0.50     40000\n",
      "   macro avg       0.55      0.50      0.33     40000\n",
      "weighted avg       0.55      0.50      0.33     40000\n",
      "\n"
     ]
    }
   ],
   "source": [
    "predicted_labels=classifier_svm.predict(reduced_vectors_train)\n",
    "print(metrics.classification_report(y_train, predicted_labels,y_train.unique().sort()))"
   ]
  },
  {
   "cell_type": "code",
   "execution_count": 51,
   "metadata": {},
   "outputs": [
    {
     "data": {
      "text/plain": [
       "0.5516"
      ]
     },
     "execution_count": 51,
     "metadata": {},
     "output_type": "execute_result"
    }
   ],
   "source": [
    "classifier_svm=SVC(kernel=\"rbf\", random_state=1,max_iter=1000)\n",
    "classifier_svm.fit(reduced_vectors_train,y_train)\n",
    "classifier_svm.score(reduced_vectors_test,y_test)"
   ]
  },
  {
   "cell_type": "code",
   "execution_count": 52,
   "metadata": {
    "scrolled": true
   },
   "outputs": [
    {
     "name": "stdout",
     "output_type": "stream",
     "text": [
      "              precision    recall  f1-score   support\n",
      "\n",
      "           0       0.79      0.14      0.24      5000\n",
      "           1       0.53      0.96      0.68      5000\n",
      "\n",
      "    accuracy                           0.55     10000\n",
      "   macro avg       0.66      0.55      0.46     10000\n",
      "weighted avg       0.66      0.55      0.46     10000\n",
      "\n"
     ]
    }
   ],
   "source": [
    "predicted_labels=classifier_svm.predict(reduced_vectors_test)\n",
    "print(metrics.classification_report(y_test, predicted_labels,y_train.unique().sort()))"
   ]
  },
  {
   "cell_type": "code",
   "execution_count": 53,
   "metadata": {},
   "outputs": [
    {
     "data": {
      "text/plain": [
       "0.546275"
      ]
     },
     "execution_count": 53,
     "metadata": {},
     "output_type": "execute_result"
    }
   ],
   "source": [
    "classifier_svm.score(reduced_vectors_train,y_train)"
   ]
  },
  {
   "cell_type": "code",
   "execution_count": 54,
   "metadata": {},
   "outputs": [
    {
     "name": "stdout",
     "output_type": "stream",
     "text": [
      "              precision    recall  f1-score   support\n",
      "\n",
      "           0       0.80      0.12      0.21     20000\n",
      "           1       0.53      0.97      0.68     20000\n",
      "\n",
      "    accuracy                           0.55     40000\n",
      "   macro avg       0.66      0.55      0.45     40000\n",
      "weighted avg       0.66      0.55      0.45     40000\n",
      "\n"
     ]
    }
   ],
   "source": [
    "predicted_labels=classifier_svm.predict(reduced_vectors_train)\n",
    "print(metrics.classification_report(y_train, predicted_labels,y_train.unique().sort()))"
   ]
  },
  {
   "cell_type": "markdown",
   "metadata": {},
   "source": [
    "# Nb"
   ]
  },
  {
   "cell_type": "code",
   "execution_count": 71,
   "metadata": {},
   "outputs": [],
   "source": [
    "classifierNB=MultinomialNB()"
   ]
  },
  {
   "cell_type": "code",
   "execution_count": 72,
   "metadata": {},
   "outputs": [
    {
     "data": {
      "text/plain": [
       "0.7362"
      ]
     },
     "execution_count": 72,
     "metadata": {},
     "output_type": "execute_result"
    }
   ],
   "source": [
    "classifierNB.fit(X=reduced_vectors_train,y=y_train)\n",
    "classifierNB.score(X=reduced_vectors_test,y=y_test)"
   ]
  },
  {
   "cell_type": "code",
   "execution_count": 73,
   "metadata": {
    "scrolled": true
   },
   "outputs": [
    {
     "name": "stdout",
     "output_type": "stream",
     "text": [
      "              precision    recall  f1-score   support\n",
      "\n",
      "           0       0.75      0.71      0.73      5000\n",
      "           1       0.72      0.77      0.74      5000\n",
      "\n",
      "    accuracy                           0.74     10000\n",
      "   macro avg       0.74      0.74      0.74     10000\n",
      "weighted avg       0.74      0.74      0.74     10000\n",
      "\n"
     ]
    }
   ],
   "source": [
    "predicted_labels=classifierNB.predict(reduced_vectors_test)\n",
    "\n",
    "print(metrics.classification_report(y_test, predicted_labels,y_train.unique().sort()))"
   ]
  },
  {
   "cell_type": "code",
   "execution_count": 74,
   "metadata": {},
   "outputs": [
    {
     "data": {
      "image/png": "[encoded data removed]",
      "text/plain": [
       "<Figure size 432x288 with 1 Axes>"
      ]
     },
     "metadata": {
      "needs_background": "light"
     },
     "output_type": "display_data"
    },
    {
     "data": {
      "text/plain": [
       "<matplotlib.axes._subplots.AxesSubplot at 0x23478815940>"
      ]
     },
     "execution_count": 74,
     "metadata": {},
     "output_type": "execute_result"
    }
   ],
   "source": [
    "model = MultinomialNB()\n",
    "\n",
    "# The ConfusionMatrix visualizer taxes a model\n",
    "cm = ConfusionMatrix(model, classes=y_train.unique())\n",
    "\n",
    "# Fit fits the passed model. This is unnecessary if you pass the visualizer a pre-fitted model\n",
    "cm.fit(reduced_vectors_train, y_train)\n",
    "\n",
    "# To create the ConfusionMatrix, we need some test data. Score runs predict() on the data\n",
    "# and then creates the confusion_matrix from scikit-learn.\n",
    "cm.score(reduced_vectors_test, y_test)\n",
    "\n",
    "# How did we do?\n",
    "cm.poof()"
   ]
  },
  {
   "cell_type": "code",
   "execution_count": 75,
   "metadata": {
    "scrolled": true
   },
   "outputs": [
    {
     "data": {
      "text/plain": [
       "0.737375"
      ]
     },
     "execution_count": 75,
     "metadata": {},
     "output_type": "execute_result"
    }
   ],
   "source": [
    "#training score\n",
    "classifierNB.score(X=reduced_vectors_train,y=y_train)"
   ]
  },
  {
   "cell_type": "code",
   "execution_count": 76,
   "metadata": {},
   "outputs": [
    {
     "name": "stdout",
     "output_type": "stream",
     "text": [
      "              precision    recall  f1-score   support\n",
      "\n",
      "           0       0.75      0.71      0.73     20000\n",
      "           1       0.73      0.76      0.74     20000\n",
      "\n",
      "    accuracy                           0.74     40000\n",
      "   macro avg       0.74      0.74      0.74     40000\n",
      "weighted avg       0.74      0.74      0.74     40000\n",
      "\n"
     ]
    }
   ],
   "source": [
    "predicted_labels=classifierNB.predict(reduced_vectors_train)\n",
    "print(metrics.classification_report(y_train, predicted_labels,y_train.unique().sort()))"
   ]
  }
 ],
 "metadata": {
  "kernelspec": {
   "display_name": "Python 3",
   "language": "python",
   "name": "python3"
  },
  "language_info": {
   "codemirror_mode": {
    "name": "ipython",
    "version": 3
   },
   "file_extension": ".py",
   "mimetype": "text/x-python",
   "name": "python",
   "nbconvert_exporter": "python",
   "pygments_lexer": "ipython3",
   "version": "3.7.3"
  }
 },
 "nbformat": 4,
 "nbformat_minor": 2
}
